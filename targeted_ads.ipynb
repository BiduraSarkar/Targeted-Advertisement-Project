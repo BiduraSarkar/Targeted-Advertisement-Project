{
 "cells": [
  {
   "cell_type": "code",
   "execution_count": 1,
   "id": "f9ed1944-be91-4265-86a9-d9144413c731",
   "metadata": {},
   "outputs": [
    {
     "name": "stdout",
     "output_type": "stream",
     "text": [
      "Defaulting to user installation because normal site-packages is not writeable\n",
      "Requirement already satisfied: pandas in ./.local/lib/python3.10/site-packages (2.0.3)\n",
      "Requirement already satisfied: python-dateutil>=2.8.2 in /home/common/miniconda3/envs/pytorch_cpu/lib/python3.10/site-packages (from pandas) (2.8.2)\n",
      "Requirement already satisfied: numpy>=1.21.0 in /home/common/miniconda3/envs/pytorch_cpu/lib/python3.10/site-packages (from pandas) (1.24.3)\n",
      "Requirement already satisfied: tzdata>=2022.1 in ./.local/lib/python3.10/site-packages (from pandas) (2023.3)\n",
      "Requirement already satisfied: pytz>=2020.1 in ./.local/lib/python3.10/site-packages (from pandas) (2023.3)\n",
      "Requirement already satisfied: six>=1.5 in /home/common/miniconda3/envs/pytorch_cpu/lib/python3.10/site-packages (from python-dateutil>=2.8.2->pandas) (1.16.0)\n",
      "Defaulting to user installation because normal site-packages is not writeable\n",
      "Requirement already satisfied: numpy in /home/common/miniconda3/envs/pytorch_cpu/lib/python3.10/site-packages (1.24.3)\n",
      "Defaulting to user installation because normal site-packages is not writeable\n",
      "Requirement already satisfied: seaborn in ./.local/lib/python3.10/site-packages (0.12.2)\n",
      "Requirement already satisfied: numpy!=1.24.0,>=1.17 in /home/common/miniconda3/envs/pytorch_cpu/lib/python3.10/site-packages (from seaborn) (1.24.3)\n",
      "Requirement already satisfied: matplotlib!=3.6.1,>=3.1 in ./.local/lib/python3.10/site-packages (from seaborn) (3.7.2)\n",
      "Requirement already satisfied: pandas>=0.25 in ./.local/lib/python3.10/site-packages (from seaborn) (2.0.3)\n",
      "Requirement already satisfied: packaging>=20.0 in /home/common/miniconda3/envs/pytorch_cpu/lib/python3.10/site-packages (from matplotlib!=3.6.1,>=3.1->seaborn) (23.1)\n",
      "Requirement already satisfied: pillow>=6.2.0 in /home/common/miniconda3/envs/pytorch_cpu/lib/python3.10/site-packages (from matplotlib!=3.6.1,>=3.1->seaborn) (9.3.0)\n",
      "Requirement already satisfied: python-dateutil>=2.7 in /home/common/miniconda3/envs/pytorch_cpu/lib/python3.10/site-packages (from matplotlib!=3.6.1,>=3.1->seaborn) (2.8.2)\n",
      "Requirement already satisfied: kiwisolver>=1.0.1 in ./.local/lib/python3.10/site-packages (from matplotlib!=3.6.1,>=3.1->seaborn) (1.4.4)\n",
      "Requirement already satisfied: contourpy>=1.0.1 in ./.local/lib/python3.10/site-packages (from matplotlib!=3.6.1,>=3.1->seaborn) (1.1.0)\n",
      "Requirement already satisfied: pyparsing<3.1,>=2.3.1 in ./.local/lib/python3.10/site-packages (from matplotlib!=3.6.1,>=3.1->seaborn) (3.0.9)\n",
      "Requirement already satisfied: cycler>=0.10 in ./.local/lib/python3.10/site-packages (from matplotlib!=3.6.1,>=3.1->seaborn) (0.11.0)\n",
      "Requirement already satisfied: fonttools>=4.22.0 in ./.local/lib/python3.10/site-packages (from matplotlib!=3.6.1,>=3.1->seaborn) (4.42.0)\n",
      "Requirement already satisfied: pytz>=2020.1 in ./.local/lib/python3.10/site-packages (from pandas>=0.25->seaborn) (2023.3)\n",
      "Requirement already satisfied: tzdata>=2022.1 in ./.local/lib/python3.10/site-packages (from pandas>=0.25->seaborn) (2023.3)\n",
      "Requirement already satisfied: six>=1.5 in /home/common/miniconda3/envs/pytorch_cpu/lib/python3.10/site-packages (from python-dateutil>=2.7->matplotlib!=3.6.1,>=3.1->seaborn) (1.16.0)\n"
     ]
    }
   ],
   "source": [
    "!pip install pandas \n",
    "!pip install numpy \n",
    "!pip install seaborn"
   ]
  },
  {
   "cell_type": "code",
   "execution_count": 2,
   "id": "129c8b27-46f8-46ec-b961-74108b1d664f",
   "metadata": {},
   "outputs": [],
   "source": [
    "import pandas as pd\n",
    "import numpy as np"
   ]
  },
  {
   "cell_type": "code",
   "execution_count": 3,
   "id": "5f823077-116b-47fa-bfdf-e05ef41d02d2",
   "metadata": {},
   "outputs": [],
   "source": [
    "df = pd.read_csv('advertising_ef.csv')"
   ]
  },
  {
   "cell_type": "code",
   "execution_count": 4,
   "id": "24dec216-2c4f-4e26-80eb-69f4ca8f4439",
   "metadata": {},
   "outputs": [
    {
     "data": {
      "text/html": [
       "<div>\n",
       "<style scoped>\n",
       "    .dataframe tbody tr th:only-of-type {\n",
       "        vertical-align: middle;\n",
       "    }\n",
       "\n",
       "    .dataframe tbody tr th {\n",
       "        vertical-align: top;\n",
       "    }\n",
       "\n",
       "    .dataframe thead th {\n",
       "        text-align: right;\n",
       "    }\n",
       "</style>\n",
       "<table border=\"1\" class=\"dataframe\">\n",
       "  <thead>\n",
       "    <tr style=\"text-align: right;\">\n",
       "      <th></th>\n",
       "      <th>Daily Time Spent on Site</th>\n",
       "      <th>Age</th>\n",
       "      <th>Area Income</th>\n",
       "      <th>Daily Internet Usage</th>\n",
       "      <th>Ad Topic Line</th>\n",
       "      <th>City</th>\n",
       "      <th>Gender</th>\n",
       "      <th>Country</th>\n",
       "      <th>Timestamp</th>\n",
       "      <th>Clicked on Ad</th>\n",
       "    </tr>\n",
       "  </thead>\n",
       "  <tbody>\n",
       "    <tr>\n",
       "      <th>0</th>\n",
       "      <td>68.95</td>\n",
       "      <td>35.0</td>\n",
       "      <td>61833.90</td>\n",
       "      <td>256.09</td>\n",
       "      <td>Cloned 5thgeneration orchestration</td>\n",
       "      <td>Wrightburgh</td>\n",
       "      <td>Female</td>\n",
       "      <td>Tunisia</td>\n",
       "      <td>27-03-2016 00:53</td>\n",
       "      <td>0</td>\n",
       "    </tr>\n",
       "    <tr>\n",
       "      <th>1</th>\n",
       "      <td>NaN</td>\n",
       "      <td>31.0</td>\n",
       "      <td>68441.85</td>\n",
       "      <td>193.77</td>\n",
       "      <td>Monitored national standardization</td>\n",
       "      <td>West Jodi</td>\n",
       "      <td>Male</td>\n",
       "      <td>Nauru</td>\n",
       "      <td>04-04-2016 01:39</td>\n",
       "      <td>0</td>\n",
       "    </tr>\n",
       "    <tr>\n",
       "      <th>2</th>\n",
       "      <td>69.47</td>\n",
       "      <td>26.0</td>\n",
       "      <td>59785.94</td>\n",
       "      <td>236.50</td>\n",
       "      <td>Organic bottom-line service-desk</td>\n",
       "      <td>Davidton</td>\n",
       "      <td>Female</td>\n",
       "      <td>San Marino</td>\n",
       "      <td>13-03-2016 20:35</td>\n",
       "      <td>0</td>\n",
       "    </tr>\n",
       "    <tr>\n",
       "      <th>3</th>\n",
       "      <td>74.15</td>\n",
       "      <td>29.0</td>\n",
       "      <td>54806.18</td>\n",
       "      <td>245.89</td>\n",
       "      <td>Triple-buffered reciprocal time-frame</td>\n",
       "      <td>West Terrifurt</td>\n",
       "      <td>Male</td>\n",
       "      <td>Italy</td>\n",
       "      <td>10-01-2016 02:31</td>\n",
       "      <td>0</td>\n",
       "    </tr>\n",
       "    <tr>\n",
       "      <th>4</th>\n",
       "      <td>68.37</td>\n",
       "      <td>35.0</td>\n",
       "      <td>73889.99</td>\n",
       "      <td>225.58</td>\n",
       "      <td>Robust logistical utilization</td>\n",
       "      <td>South Manuel</td>\n",
       "      <td>Female</td>\n",
       "      <td>Iceland</td>\n",
       "      <td>03-06-2016 03:36</td>\n",
       "      <td>0</td>\n",
       "    </tr>\n",
       "  </tbody>\n",
       "</table>\n",
       "</div>"
      ],
      "text/plain": [
       "   Daily Time Spent on Site   Age  Area Income  Daily Internet Usage  \\\n",
       "0                     68.95  35.0     61833.90                256.09   \n",
       "1                       NaN  31.0     68441.85                193.77   \n",
       "2                     69.47  26.0     59785.94                236.50   \n",
       "3                     74.15  29.0     54806.18                245.89   \n",
       "4                     68.37  35.0     73889.99                225.58   \n",
       "\n",
       "                           Ad Topic Line            City  Gender     Country  \\\n",
       "0     Cloned 5thgeneration orchestration     Wrightburgh  Female     Tunisia   \n",
       "1     Monitored national standardization       West Jodi    Male       Nauru   \n",
       "2       Organic bottom-line service-desk        Davidton  Female  San Marino   \n",
       "3  Triple-buffered reciprocal time-frame  West Terrifurt    Male       Italy   \n",
       "4          Robust logistical utilization    South Manuel  Female     Iceland   \n",
       "\n",
       "          Timestamp  Clicked on Ad  \n",
       "0  27-03-2016 00:53              0  \n",
       "1  04-04-2016 01:39              0  \n",
       "2  13-03-2016 20:35              0  \n",
       "3  10-01-2016 02:31              0  \n",
       "4  03-06-2016 03:36              0  "
      ]
     },
     "execution_count": 4,
     "metadata": {},
     "output_type": "execute_result"
    }
   ],
   "source": [
    "df.head()\n"
   ]
  },
  {
   "cell_type": "code",
   "execution_count": 5,
   "id": "9c4c5575-879e-4c29-b846-4dace40e7e9b",
   "metadata": {},
   "outputs": [
    {
     "data": {
      "text/plain": [
       "Daily Time Spent on Site     4\n",
       "Age                         11\n",
       "Area Income                 11\n",
       "Daily Internet Usage         4\n",
       "Ad Topic Line                0\n",
       "City                        11\n",
       "Gender                       0\n",
       "Country                     13\n",
       "Timestamp                    0\n",
       "Clicked on Ad                0\n",
       "dtype: int64"
      ]
     },
     "execution_count": 5,
     "metadata": {},
     "output_type": "execute_result"
    }
   ],
   "source": [
    "df.isnull().sum()"
   ]
  },
  {
   "cell_type": "code",
   "execution_count": 6,
   "id": "e2b10a78-d0db-49e4-bf26-2ed1f7675eac",
   "metadata": {},
   "outputs": [
    {
     "name": "stdout",
     "output_type": "stream",
     "text": [
      "<class 'pandas.core.frame.DataFrame'>\n",
      "RangeIndex: 1009 entries, 0 to 1008\n",
      "Data columns (total 10 columns):\n",
      " #   Column                    Non-Null Count  Dtype  \n",
      "---  ------                    --------------  -----  \n",
      " 0   Daily Time Spent on Site  1005 non-null   float64\n",
      " 1   Age                       998 non-null    float64\n",
      " 2   Area Income               998 non-null    float64\n",
      " 3   Daily Internet Usage      1005 non-null   float64\n",
      " 4   Ad Topic Line             1009 non-null   object \n",
      " 5   City                      998 non-null    object \n",
      " 6   Gender                    1009 non-null   object \n",
      " 7   Country                   996 non-null    object \n",
      " 8   Timestamp                 1009 non-null   object \n",
      " 9   Clicked on Ad             1009 non-null   int64  \n",
      "dtypes: float64(4), int64(1), object(5)\n",
      "memory usage: 79.0+ KB\n"
     ]
    }
   ],
   "source": [
    "df.info()"
   ]
  },
  {
   "cell_type": "code",
   "execution_count": 7,
   "id": "3c7eabea-ecec-4037-a5cc-c4c99ac99575",
   "metadata": {},
   "outputs": [
    {
     "data": {
      "text/plain": [
       "(1009, 10)"
      ]
     },
     "execution_count": 7,
     "metadata": {},
     "output_type": "execute_result"
    }
   ],
   "source": [
    "df.shape"
   ]
  },
  {
   "cell_type": "code",
   "execution_count": 8,
   "id": "d0fb13b6-09a7-4f3d-aa50-978b6a40f61e",
   "metadata": {},
   "outputs": [],
   "source": [
    "df['Daily Time Spent on Site']=df['Daily Time Spent on Site'].fillna(np.mean(df['Daily Time Spent on Site']))"
   ]
  },
  {
   "cell_type": "code",
   "execution_count": 9,
   "id": "5d2c0ac8-cb85-4bd2-8191-0d91e22527eb",
   "metadata": {},
   "outputs": [],
   "source": [
    "df['Age']=df['Age'].fillna(np.mean(df['Age']))"
   ]
  },
  {
   "cell_type": "code",
   "execution_count": 10,
   "id": "9ac45415-cd27-401f-9894-13f684e055ea",
   "metadata": {},
   "outputs": [],
   "source": [
    "df['Area Income']=df['Area Income'].fillna(np.mean(df['Area Income']))"
   ]
  },
  {
   "cell_type": "code",
   "execution_count": 11,
   "id": "8c52935e-7314-4f68-a185-19cae457726d",
   "metadata": {},
   "outputs": [],
   "source": [
    "df['Daily Internet Usage']= df['Daily Internet Usage'].fillna(np.mean(df['Daily Internet Usage']))"
   ]
  },
  {
   "cell_type": "code",
   "execution_count": 12,
   "id": "c4674b04-0302-4b9f-929e-0ba65f980f10",
   "metadata": {},
   "outputs": [
    {
     "data": {
      "text/plain": [
       "Daily Time Spent on Site     0\n",
       "Age                          0\n",
       "Area Income                  0\n",
       "Daily Internet Usage         0\n",
       "Ad Topic Line                0\n",
       "City                        11\n",
       "Gender                       0\n",
       "Country                     13\n",
       "Timestamp                    0\n",
       "Clicked on Ad                0\n",
       "dtype: int64"
      ]
     },
     "execution_count": 12,
     "metadata": {},
     "output_type": "execute_result"
    }
   ],
   "source": [
    "df.isnull().sum()"
   ]
  },
  {
   "cell_type": "code",
   "execution_count": 13,
   "id": "c4882d4f-b4b7-4e14-aa98-52787d4a03c9",
   "metadata": {},
   "outputs": [
    {
     "data": {
      "text/plain": [
       "'16-03-2016 20:19'"
      ]
     },
     "execution_count": 13,
     "metadata": {},
     "output_type": "execute_result"
    }
   ],
   "source": [
    "df['Timestamp'].iloc[10]"
   ]
  },
  {
   "cell_type": "code",
   "execution_count": 14,
   "id": "4d346372-0ada-4237-af82-fcfd37c5b04f",
   "metadata": {},
   "outputs": [],
   "source": [
    "df.dropna(inplace=True)"
   ]
  },
  {
   "cell_type": "code",
   "execution_count": 15,
   "id": "aeda32af-2961-42e6-9d73-3ee4d352caae",
   "metadata": {},
   "outputs": [
    {
     "name": "stdout",
     "output_type": "stream",
     "text": [
      "Defaulting to user installation because normal site-packages is not writeable\n",
      "Requirement already satisfied: scikit-learn-intelex in ./.local/lib/python3.10/site-packages (2023.2.1)\n",
      "Requirement already satisfied: scikit-learn>=0.22 in ./.local/lib/python3.10/site-packages (from scikit-learn-intelex) (1.3.0)\n",
      "Requirement already satisfied: daal4py==2023.2.1 in ./.local/lib/python3.10/site-packages (from scikit-learn-intelex) (2023.2.1)\n",
      "Requirement already satisfied: daal==2023.2.1 in ./.local/lib/python3.10/site-packages (from daal4py==2023.2.1->scikit-learn-intelex) (2023.2.1)\n",
      "Requirement already satisfied: numpy>=1.19 in /home/common/miniconda3/envs/pytorch_cpu/lib/python3.10/site-packages (from daal4py==2023.2.1->scikit-learn-intelex) (1.24.3)\n",
      "Requirement already satisfied: tbb==2021.* in ./.local/lib/python3.10/site-packages (from daal==2023.2.1->daal4py==2023.2.1->scikit-learn-intelex) (2021.10.0)\n",
      "Requirement already satisfied: threadpoolctl>=2.0.0 in ./.local/lib/python3.10/site-packages (from scikit-learn>=0.22->scikit-learn-intelex) (3.2.0)\n",
      "Requirement already satisfied: joblib>=1.1.1 in ./.local/lib/python3.10/site-packages (from scikit-learn>=0.22->scikit-learn-intelex) (1.3.1)\n",
      "Requirement already satisfied: scipy>=1.5.0 in ./.local/lib/python3.10/site-packages (from scikit-learn>=0.22->scikit-learn-intelex) (1.11.1)\n"
     ]
    }
   ],
   "source": [
    "!pip install scikit-learn-intelex"
   ]
  },
  {
   "cell_type": "code",
   "execution_count": 16,
   "id": "781068d9-912b-40e9-8e4b-57805f4373f0",
   "metadata": {},
   "outputs": [
    {
     "name": "stderr",
     "output_type": "stream",
     "text": [
      "Intel(R) Extension for Scikit-learn* enabled (https://github.com/intel/scikit-learn-intelex)\n"
     ]
    }
   ],
   "source": [
    "from sklearnex import patch_sklearn\n",
    "patch_sklearn()"
   ]
  },
  {
   "cell_type": "code",
   "execution_count": 17,
   "id": "7676bc2e-ddf5-459c-a2c6-a58620b424b2",
   "metadata": {},
   "outputs": [
    {
     "name": "stdout",
     "output_type": "stream",
     "text": [
      "Defaulting to user installation because normal site-packages is not writeable\n",
      "Requirement already satisfied: dpcpp-cpp-rt in ./.local/lib/python3.10/site-packages (2023.2.0)\n",
      "Requirement already satisfied: intel-opencl-rt==2023.2.0 in ./.local/lib/python3.10/site-packages (from dpcpp-cpp-rt) (2023.2.0)\n",
      "Requirement already satisfied: intel-cmplr-lic-rt==2023.2.0 in ./.local/lib/python3.10/site-packages (from dpcpp-cpp-rt) (2023.2.0)\n",
      "Requirement already satisfied: intel-openmp==2023.2.0 in ./.local/lib/python3.10/site-packages (from dpcpp-cpp-rt) (2023.2.0)\n",
      "Requirement already satisfied: intel-cmplr-lib-rt==2023.2.0 in ./.local/lib/python3.10/site-packages (from dpcpp-cpp-rt) (2023.2.0)\n",
      "Requirement already satisfied: tbb==2021.* in ./.local/lib/python3.10/site-packages (from intel-opencl-rt==2023.2.0->dpcpp-cpp-rt) (2021.10.0)\n",
      "Note: you may need to restart the kernel to use updated packages.\n"
     ]
    }
   ],
   "source": [
    "pip install dpcpp-cpp-rt"
   ]
  },
  {
   "cell_type": "code",
   "execution_count": 18,
   "id": "6f4aa95e-1ca3-43e4-bc73-1b6bb799122c",
   "metadata": {},
   "outputs": [],
   "source": [
    "df2 = df.copy()"
   ]
  },
  {
   "cell_type": "code",
   "execution_count": 19,
   "id": "7986c47c-d0e4-4973-a012-8cc0c9513650",
   "metadata": {},
   "outputs": [
    {
     "name": "stderr",
     "output_type": "stream",
     "text": [
      "Intel(R) Extension for Scikit-learn* enabled (https://github.com/intel/scikit-learn-intelex)\n"
     ]
    }
   ],
   "source": [
    "from sklearn.preprocessing import LabelEncoder\n",
    "from sklearnex import patch_sklearn\n",
    "patch_sklearn()"
   ]
  },
  {
   "cell_type": "code",
   "execution_count": 20,
   "id": "5f80d670-89da-4bbe-a14e-77150e360f8d",
   "metadata": {},
   "outputs": [],
   "source": [
    "le = LabelEncoder()\n"
   ]
  },
  {
   "cell_type": "code",
   "execution_count": 21,
   "id": "2abe9335-5eb6-4250-b7fd-dce1b60aa06b",
   "metadata": {},
   "outputs": [],
   "source": [
    "df['City'] = le.fit_transform(df['City'])"
   ]
  },
  {
   "cell_type": "code",
   "execution_count": 22,
   "id": "1358a2f7-4902-4b81-9496-dfb31b7b59e9",
   "metadata": {},
   "outputs": [],
   "source": [
    "df['Gender'] = le.fit_transform(df['Gender'])"
   ]
  },
  {
   "cell_type": "code",
   "execution_count": 23,
   "id": "d0b5f08e-8522-41e0-96f2-b45bf4846bc3",
   "metadata": {},
   "outputs": [],
   "source": [
    "df.drop('Country',axis=1,inplace=True)"
   ]
  },
  {
   "cell_type": "code",
   "execution_count": 24,
   "id": "2e277d5f-67a9-4b99-8cd2-2fadcd37c9bc",
   "metadata": {},
   "outputs": [],
   "source": [
    "df['Timestamp']=le.fit_transform(df['Timestamp'])"
   ]
  },
  {
   "cell_type": "code",
   "execution_count": 25,
   "id": "71c5dfeb-9d3b-465a-9767-0bc6a3910471",
   "metadata": {},
   "outputs": [],
   "source": [
    "df['Ad Topic Line'] = le.fit_transform(df['Ad Topic Line'])"
   ]
  },
  {
   "cell_type": "code",
   "execution_count": 49,
   "id": "ab5b6df8-a1cc-4407-98df-2b0da792d62f",
   "metadata": {},
   "outputs": [
    {
     "data": {
      "text/html": [
       "<div>\n",
       "<style scoped>\n",
       "    .dataframe tbody tr th:only-of-type {\n",
       "        vertical-align: middle;\n",
       "    }\n",
       "\n",
       "    .dataframe tbody tr th {\n",
       "        vertical-align: top;\n",
       "    }\n",
       "\n",
       "    .dataframe thead th {\n",
       "        text-align: right;\n",
       "    }\n",
       "</style>\n",
       "<table border=\"1\" class=\"dataframe\">\n",
       "  <thead>\n",
       "    <tr style=\"text-align: right;\">\n",
       "      <th></th>\n",
       "      <th>Daily Time Spent on Site</th>\n",
       "      <th>Age</th>\n",
       "      <th>Area Income</th>\n",
       "      <th>Daily Internet Usage</th>\n",
       "      <th>Ad Topic Line</th>\n",
       "      <th>City</th>\n",
       "      <th>Gender</th>\n",
       "      <th>Timestamp</th>\n",
       "      <th>Clicked on Ad</th>\n",
       "    </tr>\n",
       "  </thead>\n",
       "  <tbody>\n",
       "    <tr>\n",
       "      <th>0</th>\n",
       "      <td>68.950000</td>\n",
       "      <td>35.0</td>\n",
       "      <td>61833.900000</td>\n",
       "      <td>256.09</td>\n",
       "      <td>90</td>\n",
       "      <td>944</td>\n",
       "      <td>0</td>\n",
       "      <td>856</td>\n",
       "      <td>0</td>\n",
       "    </tr>\n",
       "    <tr>\n",
       "      <th>1</th>\n",
       "      <td>65.009463</td>\n",
       "      <td>31.0</td>\n",
       "      <td>68441.850000</td>\n",
       "      <td>193.77</td>\n",
       "      <td>451</td>\n",
       "      <td>889</td>\n",
       "      <td>1</td>\n",
       "      <td>118</td>\n",
       "      <td>0</td>\n",
       "    </tr>\n",
       "    <tr>\n",
       "      <th>2</th>\n",
       "      <td>69.470000</td>\n",
       "      <td>26.0</td>\n",
       "      <td>59785.940000</td>\n",
       "      <td>236.50</td>\n",
       "      <td>552</td>\n",
       "      <td>112</td>\n",
       "      <td>0</td>\n",
       "      <td>400</td>\n",
       "      <td>0</td>\n",
       "    </tr>\n",
       "    <tr>\n",
       "      <th>3</th>\n",
       "      <td>74.150000</td>\n",
       "      <td>29.0</td>\n",
       "      <td>54806.180000</td>\n",
       "      <td>245.89</td>\n",
       "      <td>883</td>\n",
       "      <td>922</td>\n",
       "      <td>1</td>\n",
       "      <td>294</td>\n",
       "      <td>0</td>\n",
       "    </tr>\n",
       "    <tr>\n",
       "      <th>4</th>\n",
       "      <td>68.370000</td>\n",
       "      <td>35.0</td>\n",
       "      <td>73889.990000</td>\n",
       "      <td>225.58</td>\n",
       "      <td>750</td>\n",
       "      <td>793</td>\n",
       "      <td>0</td>\n",
       "      <td>92</td>\n",
       "      <td>0</td>\n",
       "    </tr>\n",
       "    <tr>\n",
       "      <th>6</th>\n",
       "      <td>88.910000</td>\n",
       "      <td>33.0</td>\n",
       "      <td>53852.850000</td>\n",
       "      <td>208.36</td>\n",
       "      <td>215</td>\n",
       "      <td>47</td>\n",
       "      <td>0</td>\n",
       "      <td>882</td>\n",
       "      <td>0</td>\n",
       "    </tr>\n",
       "    <tr>\n",
       "      <th>7</th>\n",
       "      <td>65.009463</td>\n",
       "      <td>48.0</td>\n",
       "      <td>24593.330000</td>\n",
       "      <td>131.76</td>\n",
       "      <td>707</td>\n",
       "      <td>660</td>\n",
       "      <td>1</td>\n",
       "      <td>203</td>\n",
       "      <td>1</td>\n",
       "    </tr>\n",
       "    <tr>\n",
       "      <th>8</th>\n",
       "      <td>74.530000</td>\n",
       "      <td>30.0</td>\n",
       "      <td>54958.573617</td>\n",
       "      <td>221.51</td>\n",
       "      <td>105</td>\n",
       "      <td>871</td>\n",
       "      <td>1</td>\n",
       "      <td>583</td>\n",
       "      <td>0</td>\n",
       "    </tr>\n",
       "    <tr>\n",
       "      <th>9</th>\n",
       "      <td>69.880000</td>\n",
       "      <td>20.0</td>\n",
       "      <td>55642.320000</td>\n",
       "      <td>183.82</td>\n",
       "      <td>441</td>\n",
       "      <td>701</td>\n",
       "      <td>1</td>\n",
       "      <td>358</td>\n",
       "      <td>0</td>\n",
       "    </tr>\n",
       "    <tr>\n",
       "      <th>10</th>\n",
       "      <td>47.640000</td>\n",
       "      <td>49.0</td>\n",
       "      <td>45632.510000</td>\n",
       "      <td>122.02</td>\n",
       "      <td>85</td>\n",
       "      <td>865</td>\n",
       "      <td>0</td>\n",
       "      <td>505</td>\n",
       "      <td>1</td>\n",
       "    </tr>\n",
       "    <tr>\n",
       "      <th>12</th>\n",
       "      <td>69.570000</td>\n",
       "      <td>48.0</td>\n",
       "      <td>51636.920000</td>\n",
       "      <td>113.12</td>\n",
       "      <td>82</td>\n",
       "      <td>892</td>\n",
       "      <td>1</td>\n",
       "      <td>91</td>\n",
       "      <td>1</td>\n",
       "    </tr>\n",
       "    <tr>\n",
       "      <th>13</th>\n",
       "      <td>79.520000</td>\n",
       "      <td>24.0</td>\n",
       "      <td>51739.630000</td>\n",
       "      <td>214.23</td>\n",
       "      <td>837</td>\n",
       "      <td>597</td>\n",
       "      <td>0</td>\n",
       "      <td>645</td>\n",
       "      <td>0</td>\n",
       "    </tr>\n",
       "    <tr>\n",
       "      <th>14</th>\n",
       "      <td>42.950000</td>\n",
       "      <td>33.0</td>\n",
       "      <td>30976.000000</td>\n",
       "      <td>143.56</td>\n",
       "      <td>347</td>\n",
       "      <td>927</td>\n",
       "      <td>0</td>\n",
       "      <td>766</td>\n",
       "      <td>1</td>\n",
       "    </tr>\n",
       "    <tr>\n",
       "      <th>15</th>\n",
       "      <td>63.450000</td>\n",
       "      <td>23.0</td>\n",
       "      <td>52182.230000</td>\n",
       "      <td>140.64</td>\n",
       "      <td>575</td>\n",
       "      <td>535</td>\n",
       "      <td>1</td>\n",
       "      <td>273</td>\n",
       "      <td>1</td>\n",
       "    </tr>\n",
       "    <tr>\n",
       "      <th>17</th>\n",
       "      <td>82.030000</td>\n",
       "      <td>41.0</td>\n",
       "      <td>71511.080000</td>\n",
       "      <td>187.53</td>\n",
       "      <td>398</td>\n",
       "      <td>696</td>\n",
       "      <td>0</td>\n",
       "      <td>49</td>\n",
       "      <td>0</td>\n",
       "    </tr>\n",
       "    <tr>\n",
       "      <th>18</th>\n",
       "      <td>54.700000</td>\n",
       "      <td>36.0</td>\n",
       "      <td>31087.540000</td>\n",
       "      <td>118.39</td>\n",
       "      <td>354</td>\n",
       "      <td>295</td>\n",
       "      <td>1</td>\n",
       "      <td>396</td>\n",
       "      <td>1</td>\n",
       "    </tr>\n",
       "    <tr>\n",
       "      <th>19</th>\n",
       "      <td>74.580000</td>\n",
       "      <td>40.0</td>\n",
       "      <td>54958.573617</td>\n",
       "      <td>135.51</td>\n",
       "      <td>6</td>\n",
       "      <td>462</td>\n",
       "      <td>1</td>\n",
       "      <td>850</td>\n",
       "      <td>1</td>\n",
       "    </tr>\n",
       "    <tr>\n",
       "      <th>21</th>\n",
       "      <td>84.590000</td>\n",
       "      <td>35.0</td>\n",
       "      <td>60015.570000</td>\n",
       "      <td>226.54</td>\n",
       "      <td>814</td>\n",
       "      <td>399</td>\n",
       "      <td>1</td>\n",
       "      <td>577</td>\n",
       "      <td>0</td>\n",
       "    </tr>\n",
       "    <tr>\n",
       "      <th>22</th>\n",
       "      <td>41.490000</td>\n",
       "      <td>52.0</td>\n",
       "      <td>32635.700000</td>\n",
       "      <td>164.83</td>\n",
       "      <td>439</td>\n",
       "      <td>787</td>\n",
       "      <td>0</td>\n",
       "      <td>647</td>\n",
       "      <td>1</td>\n",
       "    </tr>\n",
       "    <tr>\n",
       "      <th>23</th>\n",
       "      <td>87.290000</td>\n",
       "      <td>36.0</td>\n",
       "      <td>61628.720000</td>\n",
       "      <td>209.93</td>\n",
       "      <td>342</td>\n",
       "      <td>608</td>\n",
       "      <td>1</td>\n",
       "      <td>730</td>\n",
       "      <td>0</td>\n",
       "    </tr>\n",
       "  </tbody>\n",
       "</table>\n",
       "</div>"
      ],
      "text/plain": [
       "    Daily Time Spent on Site   Age   Area Income  Daily Internet Usage  \\\n",
       "0                  68.950000  35.0  61833.900000                256.09   \n",
       "1                  65.009463  31.0  68441.850000                193.77   \n",
       "2                  69.470000  26.0  59785.940000                236.50   \n",
       "3                  74.150000  29.0  54806.180000                245.89   \n",
       "4                  68.370000  35.0  73889.990000                225.58   \n",
       "6                  88.910000  33.0  53852.850000                208.36   \n",
       "7                  65.009463  48.0  24593.330000                131.76   \n",
       "8                  74.530000  30.0  54958.573617                221.51   \n",
       "9                  69.880000  20.0  55642.320000                183.82   \n",
       "10                 47.640000  49.0  45632.510000                122.02   \n",
       "12                 69.570000  48.0  51636.920000                113.12   \n",
       "13                 79.520000  24.0  51739.630000                214.23   \n",
       "14                 42.950000  33.0  30976.000000                143.56   \n",
       "15                 63.450000  23.0  52182.230000                140.64   \n",
       "17                 82.030000  41.0  71511.080000                187.53   \n",
       "18                 54.700000  36.0  31087.540000                118.39   \n",
       "19                 74.580000  40.0  54958.573617                135.51   \n",
       "21                 84.590000  35.0  60015.570000                226.54   \n",
       "22                 41.490000  52.0  32635.700000                164.83   \n",
       "23                 87.290000  36.0  61628.720000                209.93   \n",
       "\n",
       "    Ad Topic Line  City  Gender  Timestamp  Clicked on Ad  \n",
       "0              90   944       0        856              0  \n",
       "1             451   889       1        118              0  \n",
       "2             552   112       0        400              0  \n",
       "3             883   922       1        294              0  \n",
       "4             750   793       0         92              0  \n",
       "6             215    47       0        882              0  \n",
       "7             707   660       1        203              1  \n",
       "8             105   871       1        583              0  \n",
       "9             441   701       1        358              0  \n",
       "10             85   865       0        505              1  \n",
       "12             82   892       1         91              1  \n",
       "13            837   597       0        645              0  \n",
       "14            347   927       0        766              1  \n",
       "15            575   535       1        273              1  \n",
       "17            398   696       0         49              0  \n",
       "18            354   295       1        396              1  \n",
       "19              6   462       1        850              1  \n",
       "21            814   399       1        577              0  \n",
       "22            439   787       0        647              1  \n",
       "23            342   608       1        730              0  "
      ]
     },
     "execution_count": 49,
     "metadata": {},
     "output_type": "execute_result"
    }
   ],
   "source": [
    "df.head(20)"
   ]
  },
  {
   "cell_type": "code",
   "execution_count": 48,
   "id": "75a61430-a2e7-42c5-99f5-8305791be49e",
   "metadata": {},
   "outputs": [
    {
     "data": {
      "text/html": [
       "<div>\n",
       "<style scoped>\n",
       "    .dataframe tbody tr th:only-of-type {\n",
       "        vertical-align: middle;\n",
       "    }\n",
       "\n",
       "    .dataframe tbody tr th {\n",
       "        vertical-align: top;\n",
       "    }\n",
       "\n",
       "    .dataframe thead th {\n",
       "        text-align: right;\n",
       "    }\n",
       "</style>\n",
       "<table border=\"1\" class=\"dataframe\">\n",
       "  <thead>\n",
       "    <tr style=\"text-align: right;\">\n",
       "      <th></th>\n",
       "      <th>Daily Time Spent on Site</th>\n",
       "      <th>Age</th>\n",
       "      <th>Area Income</th>\n",
       "      <th>Daily Internet Usage</th>\n",
       "      <th>Ad Topic Line</th>\n",
       "      <th>City</th>\n",
       "      <th>Gender</th>\n",
       "      <th>Country</th>\n",
       "      <th>Timestamp</th>\n",
       "      <th>Clicked on Ad</th>\n",
       "    </tr>\n",
       "  </thead>\n",
       "  <tbody>\n",
       "    <tr>\n",
       "      <th>0</th>\n",
       "      <td>68.950000</td>\n",
       "      <td>35.0</td>\n",
       "      <td>61833.900000</td>\n",
       "      <td>256.09</td>\n",
       "      <td>Cloned 5thgeneration orchestration</td>\n",
       "      <td>Wrightburgh</td>\n",
       "      <td>Female</td>\n",
       "      <td>Tunisia</td>\n",
       "      <td>27-03-2016 00:53</td>\n",
       "      <td>0</td>\n",
       "    </tr>\n",
       "    <tr>\n",
       "      <th>1</th>\n",
       "      <td>65.009463</td>\n",
       "      <td>31.0</td>\n",
       "      <td>68441.850000</td>\n",
       "      <td>193.77</td>\n",
       "      <td>Monitored national standardization</td>\n",
       "      <td>West Jodi</td>\n",
       "      <td>Male</td>\n",
       "      <td>Nauru</td>\n",
       "      <td>04-04-2016 01:39</td>\n",
       "      <td>0</td>\n",
       "    </tr>\n",
       "    <tr>\n",
       "      <th>2</th>\n",
       "      <td>69.470000</td>\n",
       "      <td>26.0</td>\n",
       "      <td>59785.940000</td>\n",
       "      <td>236.50</td>\n",
       "      <td>Organic bottom-line service-desk</td>\n",
       "      <td>Davidton</td>\n",
       "      <td>Female</td>\n",
       "      <td>San Marino</td>\n",
       "      <td>13-03-2016 20:35</td>\n",
       "      <td>0</td>\n",
       "    </tr>\n",
       "    <tr>\n",
       "      <th>3</th>\n",
       "      <td>74.150000</td>\n",
       "      <td>29.0</td>\n",
       "      <td>54806.180000</td>\n",
       "      <td>245.89</td>\n",
       "      <td>Triple-buffered reciprocal time-frame</td>\n",
       "      <td>West Terrifurt</td>\n",
       "      <td>Male</td>\n",
       "      <td>Italy</td>\n",
       "      <td>10-01-2016 02:31</td>\n",
       "      <td>0</td>\n",
       "    </tr>\n",
       "    <tr>\n",
       "      <th>4</th>\n",
       "      <td>68.370000</td>\n",
       "      <td>35.0</td>\n",
       "      <td>73889.990000</td>\n",
       "      <td>225.58</td>\n",
       "      <td>Robust logistical utilization</td>\n",
       "      <td>South Manuel</td>\n",
       "      <td>Female</td>\n",
       "      <td>Iceland</td>\n",
       "      <td>03-06-2016 03:36</td>\n",
       "      <td>0</td>\n",
       "    </tr>\n",
       "    <tr>\n",
       "      <th>6</th>\n",
       "      <td>88.910000</td>\n",
       "      <td>33.0</td>\n",
       "      <td>53852.850000</td>\n",
       "      <td>208.36</td>\n",
       "      <td>Enhanced dedicated support</td>\n",
       "      <td>Brandonstad</td>\n",
       "      <td>Female</td>\n",
       "      <td>Myanmar</td>\n",
       "      <td>28-01-2016 20:59</td>\n",
       "      <td>0</td>\n",
       "    </tr>\n",
       "    <tr>\n",
       "      <th>7</th>\n",
       "      <td>65.009463</td>\n",
       "      <td>48.0</td>\n",
       "      <td>24593.330000</td>\n",
       "      <td>131.76</td>\n",
       "      <td>Reactive local challenge</td>\n",
       "      <td>Port Jefferybury</td>\n",
       "      <td>Male</td>\n",
       "      <td>Australia</td>\n",
       "      <td>07-03-2016 01:40</td>\n",
       "      <td>1</td>\n",
       "    </tr>\n",
       "    <tr>\n",
       "      <th>8</th>\n",
       "      <td>74.530000</td>\n",
       "      <td>30.0</td>\n",
       "      <td>54958.573617</td>\n",
       "      <td>221.51</td>\n",
       "      <td>Configurable coherent function</td>\n",
       "      <td>West Colin</td>\n",
       "      <td>Male</td>\n",
       "      <td>Grenada</td>\n",
       "      <td>18-04-2016 09:33</td>\n",
       "      <td>0</td>\n",
       "    </tr>\n",
       "    <tr>\n",
       "      <th>9</th>\n",
       "      <td>69.880000</td>\n",
       "      <td>20.0</td>\n",
       "      <td>55642.320000</td>\n",
       "      <td>183.82</td>\n",
       "      <td>Mandatory homogeneous architecture</td>\n",
       "      <td>Ramirezton</td>\n",
       "      <td>Male</td>\n",
       "      <td>Ghana</td>\n",
       "      <td>11-07-2016 01:42</td>\n",
       "      <td>0</td>\n",
       "    </tr>\n",
       "    <tr>\n",
       "      <th>10</th>\n",
       "      <td>47.640000</td>\n",
       "      <td>49.0</td>\n",
       "      <td>45632.510000</td>\n",
       "      <td>122.02</td>\n",
       "      <td>Centralized neutral neural-net</td>\n",
       "      <td>West Brandonton</td>\n",
       "      <td>Female</td>\n",
       "      <td>Qatar</td>\n",
       "      <td>16-03-2016 20:19</td>\n",
       "      <td>1</td>\n",
       "    </tr>\n",
       "    <tr>\n",
       "      <th>12</th>\n",
       "      <td>69.570000</td>\n",
       "      <td>48.0</td>\n",
       "      <td>51636.920000</td>\n",
       "      <td>113.12</td>\n",
       "      <td>Centralized content-based focus group</td>\n",
       "      <td>West Katiefurt</td>\n",
       "      <td>Male</td>\n",
       "      <td>Egypt</td>\n",
       "      <td>03-06-2016 01:14</td>\n",
       "      <td>1</td>\n",
       "    </tr>\n",
       "    <tr>\n",
       "      <th>13</th>\n",
       "      <td>79.520000</td>\n",
       "      <td>24.0</td>\n",
       "      <td>51739.630000</td>\n",
       "      <td>214.23</td>\n",
       "      <td>Synergistic fresh-thinking array</td>\n",
       "      <td>North Tara</td>\n",
       "      <td>Female</td>\n",
       "      <td>Bosnia and Herzegovina</td>\n",
       "      <td>20-04-2016 21:49</td>\n",
       "      <td>0</td>\n",
       "    </tr>\n",
       "    <tr>\n",
       "      <th>14</th>\n",
       "      <td>42.950000</td>\n",
       "      <td>33.0</td>\n",
       "      <td>30976.000000</td>\n",
       "      <td>143.56</td>\n",
       "      <td>Grass-roots coherent extranet</td>\n",
       "      <td>West William</td>\n",
       "      <td>Female</td>\n",
       "      <td>Barbados</td>\n",
       "      <td>24-03-2016 09:31</td>\n",
       "      <td>1</td>\n",
       "    </tr>\n",
       "    <tr>\n",
       "      <th>15</th>\n",
       "      <td>63.450000</td>\n",
       "      <td>23.0</td>\n",
       "      <td>52182.230000</td>\n",
       "      <td>140.64</td>\n",
       "      <td>Persistent demand-driven interface</td>\n",
       "      <td>New Travistown</td>\n",
       "      <td>Male</td>\n",
       "      <td>Spain</td>\n",
       "      <td>09-03-2016 03:41</td>\n",
       "      <td>1</td>\n",
       "    </tr>\n",
       "    <tr>\n",
       "      <th>17</th>\n",
       "      <td>82.030000</td>\n",
       "      <td>41.0</td>\n",
       "      <td>71511.080000</td>\n",
       "      <td>187.53</td>\n",
       "      <td>Intuitive dynamic attitude</td>\n",
       "      <td>Pruittmouth</td>\n",
       "      <td>Female</td>\n",
       "      <td>Afghanistan</td>\n",
       "      <td>02-05-2016 07:00</td>\n",
       "      <td>0</td>\n",
       "    </tr>\n",
       "    <tr>\n",
       "      <th>18</th>\n",
       "      <td>54.700000</td>\n",
       "      <td>36.0</td>\n",
       "      <td>31087.540000</td>\n",
       "      <td>118.39</td>\n",
       "      <td>Grass-roots solution-oriented conglomeration</td>\n",
       "      <td>Jessicastad</td>\n",
       "      <td>Male</td>\n",
       "      <td>British Indian Ocean Territory (Chagos Archipe...</td>\n",
       "      <td>13-02-2016 07:53</td>\n",
       "      <td>1</td>\n",
       "    </tr>\n",
       "    <tr>\n",
       "      <th>19</th>\n",
       "      <td>74.580000</td>\n",
       "      <td>40.0</td>\n",
       "      <td>54958.573617</td>\n",
       "      <td>135.51</td>\n",
       "      <td>Advanced 24/7 productivity</td>\n",
       "      <td>Millertown</td>\n",
       "      <td>Male</td>\n",
       "      <td>Russian Federation</td>\n",
       "      <td>27-02-2016 04:43</td>\n",
       "      <td>1</td>\n",
       "    </tr>\n",
       "    <tr>\n",
       "      <th>21</th>\n",
       "      <td>84.590000</td>\n",
       "      <td>35.0</td>\n",
       "      <td>60015.570000</td>\n",
       "      <td>226.54</td>\n",
       "      <td>Streamlined non-volatile analyzer</td>\n",
       "      <td>Lake Nicole</td>\n",
       "      <td>Male</td>\n",
       "      <td>Cameroon</td>\n",
       "      <td>18-03-2016 13:22</td>\n",
       "      <td>0</td>\n",
       "    </tr>\n",
       "    <tr>\n",
       "      <th>22</th>\n",
       "      <td>41.490000</td>\n",
       "      <td>52.0</td>\n",
       "      <td>32635.700000</td>\n",
       "      <td>164.83</td>\n",
       "      <td>Mandatory disintermediate utilization</td>\n",
       "      <td>South John</td>\n",
       "      <td>Female</td>\n",
       "      <td>Burundi</td>\n",
       "      <td>20-05-2016 08:49</td>\n",
       "      <td>1</td>\n",
       "    </tr>\n",
       "    <tr>\n",
       "      <th>23</th>\n",
       "      <td>87.290000</td>\n",
       "      <td>36.0</td>\n",
       "      <td>61628.720000</td>\n",
       "      <td>209.93</td>\n",
       "      <td>Future-proofed methodical protocol</td>\n",
       "      <td>Pamelamouth</td>\n",
       "      <td>Male</td>\n",
       "      <td>Korea</td>\n",
       "      <td>23-03-2016 09:43</td>\n",
       "      <td>0</td>\n",
       "    </tr>\n",
       "  </tbody>\n",
       "</table>\n",
       "</div>"
      ],
      "text/plain": [
       "    Daily Time Spent on Site   Age   Area Income  Daily Internet Usage  \\\n",
       "0                  68.950000  35.0  61833.900000                256.09   \n",
       "1                  65.009463  31.0  68441.850000                193.77   \n",
       "2                  69.470000  26.0  59785.940000                236.50   \n",
       "3                  74.150000  29.0  54806.180000                245.89   \n",
       "4                  68.370000  35.0  73889.990000                225.58   \n",
       "6                  88.910000  33.0  53852.850000                208.36   \n",
       "7                  65.009463  48.0  24593.330000                131.76   \n",
       "8                  74.530000  30.0  54958.573617                221.51   \n",
       "9                  69.880000  20.0  55642.320000                183.82   \n",
       "10                 47.640000  49.0  45632.510000                122.02   \n",
       "12                 69.570000  48.0  51636.920000                113.12   \n",
       "13                 79.520000  24.0  51739.630000                214.23   \n",
       "14                 42.950000  33.0  30976.000000                143.56   \n",
       "15                 63.450000  23.0  52182.230000                140.64   \n",
       "17                 82.030000  41.0  71511.080000                187.53   \n",
       "18                 54.700000  36.0  31087.540000                118.39   \n",
       "19                 74.580000  40.0  54958.573617                135.51   \n",
       "21                 84.590000  35.0  60015.570000                226.54   \n",
       "22                 41.490000  52.0  32635.700000                164.83   \n",
       "23                 87.290000  36.0  61628.720000                209.93   \n",
       "\n",
       "                                   Ad Topic Line              City  Gender  \\\n",
       "0             Cloned 5thgeneration orchestration       Wrightburgh  Female   \n",
       "1             Monitored national standardization         West Jodi    Male   \n",
       "2               Organic bottom-line service-desk          Davidton  Female   \n",
       "3          Triple-buffered reciprocal time-frame    West Terrifurt    Male   \n",
       "4                  Robust logistical utilization      South Manuel  Female   \n",
       "6                     Enhanced dedicated support       Brandonstad  Female   \n",
       "7                       Reactive local challenge  Port Jefferybury    Male   \n",
       "8                 Configurable coherent function        West Colin    Male   \n",
       "9             Mandatory homogeneous architecture        Ramirezton    Male   \n",
       "10                Centralized neutral neural-net   West Brandonton  Female   \n",
       "12         Centralized content-based focus group    West Katiefurt    Male   \n",
       "13              Synergistic fresh-thinking array        North Tara  Female   \n",
       "14                 Grass-roots coherent extranet      West William  Female   \n",
       "15            Persistent demand-driven interface    New Travistown    Male   \n",
       "17                    Intuitive dynamic attitude       Pruittmouth  Female   \n",
       "18  Grass-roots solution-oriented conglomeration       Jessicastad    Male   \n",
       "19                    Advanced 24/7 productivity        Millertown    Male   \n",
       "21             Streamlined non-volatile analyzer       Lake Nicole    Male   \n",
       "22         Mandatory disintermediate utilization        South John  Female   \n",
       "23            Future-proofed methodical protocol       Pamelamouth    Male   \n",
       "\n",
       "                                              Country         Timestamp  \\\n",
       "0                                             Tunisia  27-03-2016 00:53   \n",
       "1                                               Nauru  04-04-2016 01:39   \n",
       "2                                          San Marino  13-03-2016 20:35   \n",
       "3                                               Italy  10-01-2016 02:31   \n",
       "4                                             Iceland  03-06-2016 03:36   \n",
       "6                                             Myanmar  28-01-2016 20:59   \n",
       "7                                           Australia  07-03-2016 01:40   \n",
       "8                                             Grenada  18-04-2016 09:33   \n",
       "9                                               Ghana  11-07-2016 01:42   \n",
       "10                                              Qatar  16-03-2016 20:19   \n",
       "12                                              Egypt  03-06-2016 01:14   \n",
       "13                             Bosnia and Herzegovina  20-04-2016 21:49   \n",
       "14                                           Barbados  24-03-2016 09:31   \n",
       "15                                              Spain  09-03-2016 03:41   \n",
       "17                                        Afghanistan  02-05-2016 07:00   \n",
       "18  British Indian Ocean Territory (Chagos Archipe...  13-02-2016 07:53   \n",
       "19                                 Russian Federation  27-02-2016 04:43   \n",
       "21                                           Cameroon  18-03-2016 13:22   \n",
       "22                                            Burundi  20-05-2016 08:49   \n",
       "23                                              Korea  23-03-2016 09:43   \n",
       "\n",
       "    Clicked on Ad  \n",
       "0               0  \n",
       "1               0  \n",
       "2               0  \n",
       "3               0  \n",
       "4               0  \n",
       "6               0  \n",
       "7               1  \n",
       "8               0  \n",
       "9               0  \n",
       "10              1  \n",
       "12              1  \n",
       "13              0  \n",
       "14              1  \n",
       "15              1  \n",
       "17              0  \n",
       "18              1  \n",
       "19              1  \n",
       "21              0  \n",
       "22              1  \n",
       "23              0  "
      ]
     },
     "execution_count": 48,
     "metadata": {},
     "output_type": "execute_result"
    }
   ],
   "source": [
    "df2.head(20)"
   ]
  },
  {
   "cell_type": "code",
   "execution_count": 28,
   "id": "bec16f89-b8b5-4b34-97a7-027a4222ac45",
   "metadata": {},
   "outputs": [
    {
     "data": {
      "text/plain": [
       "<Axes: >"
      ]
     },
     "execution_count": 28,
     "metadata": {},
     "output_type": "execute_result"
    },
    {
     "data": {
      "image/png": "[encoded data removed]",
      "text/plain": [
       "<Figure size 640x480 with 2 Axes>"
      ]
     },
     "metadata": {},
     "output_type": "display_data"
    }
   ],
   "source": [
    "import seaborn as sns\n",
    "sns.heatmap(df.corr(),annot=True)"
   ]
  },
  {
   "cell_type": "code",
   "execution_count": 29,
   "id": "3ee24b38-b7f9-4807-83aa-298fe787984c",
   "metadata": {},
   "outputs": [],
   "source": [
    "y = df['Clicked on Ad']"
   ]
  },
  {
   "cell_type": "code",
   "execution_count": 30,
   "id": "0d7b7670-c1fd-4e92-8857-39249a9265fb",
   "metadata": {},
   "outputs": [],
   "source": [
    "X = df.drop('Clicked on Ad', axis=1)"
   ]
  },
  {
   "cell_type": "code",
   "execution_count": 31,
   "id": "72659100-6277-47ac-b9c7-7f6040293564",
   "metadata": {},
   "outputs": [],
   "source": [
    "from sklearnex.model_selection import train_test_split"
   ]
  },
  {
   "cell_type": "code",
   "execution_count": 32,
   "id": "006f94e7-b960-41d4-b9eb-afe2d6bf2f53",
   "metadata": {},
   "outputs": [],
   "source": [
    "X_train,X_test,y_train,y_test = train_test_split(X,y,test_size=0.3,random_state=101)"
   ]
  },
  {
   "cell_type": "code",
   "execution_count": 33,
   "id": "a73e5111-10bb-44e8-977f-f79b84058cab",
   "metadata": {},
   "outputs": [
    {
     "name": "stderr",
     "output_type": "stream",
     "text": [
      "Intel(R) Extension for Scikit-learn* enabled (https://github.com/intel/scikit-learn-intelex)\n"
     ]
    }
   ],
   "source": [
    "from sklearn.tree import DecisionTreeClassifier\n",
    "from sklearnex import patch_sklearn\n",
    "patch_sklearn()"
   ]
  },
  {
   "cell_type": "code",
   "execution_count": 34,
   "id": "d2472f6d-07d1-4adf-af13-eb37b1a5283e",
   "metadata": {},
   "outputs": [],
   "source": [
    "dtree = DecisionTreeClassifier(criterion = 'gini',max_depth=4,min_samples_split=4,min_samples_leaf=3)"
   ]
  },
  {
   "cell_type": "code",
   "execution_count": 35,
   "id": "c60fcf26-37c4-455b-a0a0-124f5f92f49d",
   "metadata": {},
   "outputs": [
    {
     "data": {
      "text/html": [
       "<style>#sk-container-id-1 {color: black;}#sk-container-id-1 pre{padding: 0;}#sk-container-id-1 div.sk-toggleable {background-color: white;}#sk-container-id-1 label.sk-toggleable__label {cursor: pointer;display: block;width: 100%;margin-bottom: 0;padding: 0.3em;box-sizing: border-box;text-align: center;}#sk-container-id-1 label.sk-toggleable__label-arrow:before {content: \"▸\";float: left;margin-right: 0.25em;color: #696969;}#sk-container-id-1 label.sk-toggleable__label-arrow:hover:before {color: black;}#sk-container-id-1 div.sk-estimator:hover label.sk-toggleable__label-arrow:before {color: black;}#sk-container-id-1 div.sk-toggleable__content {max-height: 0;max-width: 0;overflow: hidden;text-align: left;background-color: #f0f8ff;}#sk-container-id-1 div.sk-toggleable__content pre {margin: 0.2em;color: black;border-radius: 0.25em;background-color: #f0f8ff;}#sk-container-id-1 input.sk-toggleable__control:checked~div.sk-toggleable__content {max-height: 200px;max-width: 100%;overflow: auto;}#sk-container-id-1 input.sk-toggleable__control:checked~label.sk-toggleable__label-arrow:before {content: \"▾\";}#sk-container-id-1 div.sk-estimator input.sk-toggleable__control:checked~label.sk-toggleable__label {background-color: #d4ebff;}#sk-container-id-1 div.sk-label input.sk-toggleable__control:checked~label.sk-toggleable__label {background-color: #d4ebff;}#sk-container-id-1 input.sk-hidden--visually {border: 0;clip: rect(1px 1px 1px 1px);clip: rect(1px, 1px, 1px, 1px);height: 1px;margin: -1px;overflow: hidden;padding: 0;position: absolute;width: 1px;}#sk-container-id-1 div.sk-estimator {font-family: monospace;background-color: #f0f8ff;border: 1px dotted black;border-radius: 0.25em;box-sizing: border-box;margin-bottom: 0.5em;}#sk-container-id-1 div.sk-estimator:hover {background-color: #d4ebff;}#sk-container-id-1 div.sk-parallel-item::after {content: \"\";width: 100%;border-bottom: 1px solid gray;flex-grow: 1;}#sk-container-id-1 div.sk-label:hover label.sk-toggleable__label {background-color: #d4ebff;}#sk-container-id-1 div.sk-serial::before {content: \"\";position: absolute;border-left: 1px solid gray;box-sizing: border-box;top: 0;bottom: 0;left: 50%;z-index: 0;}#sk-container-id-1 div.sk-serial {display: flex;flex-direction: column;align-items: center;background-color: white;padding-right: 0.2em;padding-left: 0.2em;position: relative;}#sk-container-id-1 div.sk-item {position: relative;z-index: 1;}#sk-container-id-1 div.sk-parallel {display: flex;align-items: stretch;justify-content: center;background-color: white;position: relative;}#sk-container-id-1 div.sk-item::before, #sk-container-id-1 div.sk-parallel-item::before {content: \"\";position: absolute;border-left: 1px solid gray;box-sizing: border-box;top: 0;bottom: 0;left: 50%;z-index: -1;}#sk-container-id-1 div.sk-parallel-item {display: flex;flex-direction: column;z-index: 1;position: relative;background-color: white;}#sk-container-id-1 div.sk-parallel-item:first-child::after {align-self: flex-end;width: 50%;}#sk-container-id-1 div.sk-parallel-item:last-child::after {align-self: flex-start;width: 50%;}#sk-container-id-1 div.sk-parallel-item:only-child::after {width: 0;}#sk-container-id-1 div.sk-dashed-wrapped {border: 1px dashed gray;margin: 0 0.4em 0.5em 0.4em;box-sizing: border-box;padding-bottom: 0.4em;background-color: white;}#sk-container-id-1 div.sk-label label {font-family: monospace;font-weight: bold;display: inline-block;line-height: 1.2em;}#sk-container-id-1 div.sk-label-container {text-align: center;}#sk-container-id-1 div.sk-container {/* jupyter's `normalize.less` sets `[hidden] { display: none; }` but bootstrap.min.css set `[hidden] { display: none !important; }` so we also need the `!important` here to be able to override the default hidden behavior on the sphinx rendered scikit-learn.org. See: https://github.com/scikit-learn/scikit-learn/issues/21755 */display: inline-block !important;position: relative;}#sk-container-id-1 div.sk-text-repr-fallback {display: none;}</style><div id=\"sk-container-id-1\" class=\"sk-top-container\"><div class=\"sk-text-repr-fallback\"><pre>DecisionTreeClassifier(max_depth=4, min_samples_leaf=3, min_samples_split=4)</pre><b>In a Jupyter environment, please rerun this cell to show the HTML representation or trust the notebook. <br />On GitHub, the HTML representation is unable to render, please try loading this page with nbviewer.org.</b></div><div class=\"sk-container\" hidden><div class=\"sk-item\"><div class=\"sk-estimator sk-toggleable\"><input class=\"sk-toggleable__control sk-hidden--visually\" id=\"sk-estimator-id-1\" type=\"checkbox\" checked><label for=\"sk-estimator-id-1\" class=\"sk-toggleable__label sk-toggleable__label-arrow\">DecisionTreeClassifier</label><div class=\"sk-toggleable__content\"><pre>DecisionTreeClassifier(max_depth=4, min_samples_leaf=3, min_samples_split=4)</pre></div></div></div></div></div>"
      ],
      "text/plain": [
       "DecisionTreeClassifier(max_depth=4, min_samples_leaf=3, min_samples_split=4)"
      ]
     },
     "execution_count": 35,
     "metadata": {},
     "output_type": "execute_result"
    }
   ],
   "source": [
    "dtree.fit(X_train,y_train)"
   ]
  },
  {
   "cell_type": "code",
   "execution_count": 36,
   "id": "0cfd7e7f-ebf9-4240-b35d-3b564708bead",
   "metadata": {},
   "outputs": [],
   "source": [
    "pred = dtree.predict(X_test)"
   ]
  },
  {
   "cell_type": "code",
   "execution_count": 37,
   "id": "4e99f51e-abc5-4a89-8e76-125b9167d528",
   "metadata": {},
   "outputs": [],
   "source": [
    "from sklearn.metrics import accuracy_score,confusion_matrix,classification_report"
   ]
  },
  {
   "cell_type": "code",
   "execution_count": 38,
   "id": "7864cbc6-6775-4bc6-af5c-0646132cfb3b",
   "metadata": {},
   "outputs": [
    {
     "data": {
      "text/plain": [
       "90.87837837837837"
      ]
     },
     "execution_count": 38,
     "metadata": {},
     "output_type": "execute_result"
    }
   ],
   "source": [
    "accuracy_score(y_test,pred)*100"
   ]
  },
  {
   "cell_type": "code",
   "execution_count": 39,
   "id": "92803088-2236-440f-9b91-2af889504e92",
   "metadata": {},
   "outputs": [
    {
     "data": {
      "text/plain": [
       "array([[130,  14],\n",
       "       [ 13, 139]])"
      ]
     },
     "execution_count": 39,
     "metadata": {},
     "output_type": "execute_result"
    }
   ],
   "source": [
    "confusion_matrix(y_test,pred)"
   ]
  },
  {
   "cell_type": "code",
   "execution_count": 40,
   "id": "15dd5414-7599-4fb3-bc9a-c872aa7b09b7",
   "metadata": {},
   "outputs": [
    {
     "name": "stdout",
     "output_type": "stream",
     "text": [
      "              precision    recall  f1-score   support\n",
      "\n",
      "           0       0.91      0.90      0.91       144\n",
      "           1       0.91      0.91      0.91       152\n",
      "\n",
      "    accuracy                           0.91       296\n",
      "   macro avg       0.91      0.91      0.91       296\n",
      "weighted avg       0.91      0.91      0.91       296\n",
      "\n"
     ]
    }
   ],
   "source": [
    "print(classification_report(y_test,pred))"
   ]
  },
  {
   "cell_type": "code",
   "execution_count": 41,
   "id": "58581c3e-2a9e-4400-b8d2-5e8d144a35b0",
   "metadata": {},
   "outputs": [
    {
     "name": "stderr",
     "output_type": "stream",
     "text": [
      "/home/u115551/.local/lib/python3.10/site-packages/sklearn/base.py:464: UserWarning: X does not have valid feature names, but DecisionTreeClassifier was fitted with feature names\n",
      "  warnings.warn(\n"
     ]
    },
    {
     "data": {
      "text/plain": [
       "array([1])"
      ]
     },
     "execution_count": 41,
     "metadata": {},
     "output_type": "execute_result"
    }
   ],
   "source": [
    "dtree.predict([df.iloc[254][:-1]])"
   ]
  },
  {
   "cell_type": "code",
   "execution_count": 42,
   "id": "d4f09097-1c4f-4ad1-8534-c9c05d2ff497",
   "metadata": {},
   "outputs": [
    {
     "data": {
      "text/plain": [
       "1.0"
      ]
     },
     "execution_count": 42,
     "metadata": {},
     "output_type": "execute_result"
    }
   ],
   "source": [
    "df.iloc[254]['Clicked on Ad']"
   ]
  },
  {
   "cell_type": "code",
   "execution_count": 43,
   "id": "e3e55aa8-6694-43ee-be53-7c47886cae05",
   "metadata": {},
   "outputs": [
    {
     "data": {
      "text/plain": [
       "Index(['Daily Time Spent on Site', 'Age', 'Area Income',\n",
       "       'Daily Internet Usage', 'Ad Topic Line', 'City', 'Gender', 'Timestamp'],\n",
       "      dtype='object')"
      ]
     },
     "execution_count": 43,
     "metadata": {},
     "output_type": "execute_result"
    }
   ],
   "source": [
    "X.columns"
   ]
  },
  {
   "cell_type": "code",
   "execution_count": 44,
   "id": "a19a9467-2436-4781-bbcf-5e3b822154a1",
   "metadata": {},
   "outputs": [
    {
     "name": "stderr",
     "output_type": "stream",
     "text": [
      "Intel(R) Extension for Scikit-learn* enabled (https://github.com/intel/scikit-learn-intelex)\n"
     ]
    }
   ],
   "source": [
    "from sklearn.linear_model import LogisticRegression\n",
    "from sklearnex import patch_sklearn\n",
    "patch_sklearn()"
   ]
  },
  {
   "cell_type": "code",
   "execution_count": 45,
   "id": "d466c645-7992-46d6-b5ff-7844e8d91be5",
   "metadata": {},
   "outputs": [
    {
     "name": "stdout",
     "output_type": "stream",
     "text": [
      "              precision    recall  f1-score   support\n",
      "\n",
      "           0       0.90      0.91      0.90       144\n",
      "           1       0.91      0.90      0.91       152\n",
      "\n",
      "    accuracy                           0.91       296\n",
      "   macro avg       0.91      0.91      0.91       296\n",
      "weighted avg       0.91      0.91      0.91       296\n",
      "\n"
     ]
    },
    {
     "name": "stderr",
     "output_type": "stream",
     "text": [
      "/home/u115551/.local/lib/python3.10/site-packages/daal4py/sklearn/linear_model/logistic_path.py:574: ConvergenceWarning: lbfgs failed to converge (status=1):\n",
      "STOP: TOTAL NO. of ITERATIONS REACHED LIMIT.\n",
      "\n",
      "Increase the number of iterations (max_iter) or scale the data as shown in:\n",
      "    https://scikit-learn.org/stable/modules/preprocessing.html\n",
      "Please also refer to the documentation for alternative solver options:\n",
      "    https://scikit-learn.org/stable/modules/linear_model.html#logistic-regression\n",
      "  n_iter_i = _check_optimize_result(\n"
     ]
    }
   ],
   "source": [
    "lr =  LogisticRegression()\n",
    "lr.fit(X_train,y_train)\n",
    "pred2 = lr.predict(X_test)\n",
    "print(classification_report(y_test,pred2))"
   ]
  },
  {
   "cell_type": "code",
   "execution_count": 46,
   "id": "0fc51b43-41d6-4a37-8d6d-b90d39f43009",
   "metadata": {},
   "outputs": [],
   "source": [
    "import pickle"
   ]
  },
  {
   "cell_type": "code",
   "execution_count": 47,
   "id": "3c39afc5-4b2a-46b9-a765-338e145c4db1",
   "metadata": {},
   "outputs": [],
   "source": [
    "with open('classifier.pkl','wb') as file:\n",
    "    pickle.dump(dtree,file)\n"
   ]
  },
  {
   "cell_type": "code",
   "execution_count": 50,
   "id": "f8fdbb00-fdb9-4f20-83a1-4d01e76e502f",
   "metadata": {},
   "outputs": [
    {
     "data": {
      "text/plain": [
       "0.9054054054054054"
      ]
     },
     "execution_count": 50,
     "metadata": {},
     "output_type": "execute_result"
    }
   ],
   "source": [
    "accuracy_score(y_test,pred2)"
   ]
  },
  {
   "cell_type": "code",
   "execution_count": 55,
   "id": "90646113-0737-470a-ae2c-de7662d775ac",
   "metadata": {},
   "outputs": [
    {
     "data": {
      "text/html": [
       "<div>\n",
       "<style scoped>\n",
       "    .dataframe tbody tr th:only-of-type {\n",
       "        vertical-align: middle;\n",
       "    }\n",
       "\n",
       "    .dataframe tbody tr th {\n",
       "        vertical-align: top;\n",
       "    }\n",
       "\n",
       "    .dataframe thead th {\n",
       "        text-align: right;\n",
       "    }\n",
       "</style>\n",
       "<table border=\"1\" class=\"dataframe\">\n",
       "  <thead>\n",
       "    <tr style=\"text-align: right;\">\n",
       "      <th></th>\n",
       "      <th>1</th>\n",
       "      <th>0</th>\n",
       "    </tr>\n",
       "  </thead>\n",
       "  <tbody>\n",
       "    <tr>\n",
       "      <th>1</th>\n",
       "      <td>130</td>\n",
       "      <td>14</td>\n",
       "    </tr>\n",
       "    <tr>\n",
       "      <th>0</th>\n",
       "      <td>13</td>\n",
       "      <td>139</td>\n",
       "    </tr>\n",
       "  </tbody>\n",
       "</table>\n",
       "</div>"
      ],
      "text/plain": [
       "     1    0\n",
       "1  130   14\n",
       "0   13  139"
      ]
     },
     "execution_count": 55,
     "metadata": {},
     "output_type": "execute_result"
    }
   ],
   "source": [
    "pd.DataFrame(data = confusion_matrix(y_test,pred),index=[1,0],columns=[1,0])"
   ]
  },
  {
   "cell_type": "code",
   "execution_count": null,
   "id": "e99aa140-ace1-467d-98b2-a79a3db4675a",
   "metadata": {},
   "outputs": [],
   "source": []
  }
 ],
 "metadata": {
  "kernelspec": {
   "display_name": "Python 3 (ipykernel)",
   "language": "python",
   "name": "python3"
  },
  "language_info": {
   "codemirror_mode": {
    "name": "ipython",
    "version": 3
   },
   "file_extension": ".py",
   "mimetype": "text/x-python",
   "name": "python",
   "nbconvert_exporter": "python",
   "pygments_lexer": "ipython3",
   "version": "3.10.11"
  }
 },
 "nbformat": 4,
 "nbformat_minor": 5
}
